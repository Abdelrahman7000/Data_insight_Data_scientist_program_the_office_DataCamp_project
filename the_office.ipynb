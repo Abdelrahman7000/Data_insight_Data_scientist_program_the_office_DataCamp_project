{
 "cells": [
  {
   "cell_type": "markdown",
   "id": "7aae5d78",
   "metadata": {},
   "source": [
    "## Importing the Data and required libraries"
   ]
  },
  {
   "cell_type": "code",
   "execution_count": 1,
   "id": "a112e032",
   "metadata": {},
   "outputs": [],
   "source": [
    "import pandas as pd\n",
    "import matplotlib.pyplot as plt\n",
    "import numpy as np\n",
    "plt.rcParams['figure.figsize']=[11,7]"
   ]
  },
  {
   "cell_type": "code",
   "execution_count": 2,
   "id": "8463a7e9",
   "metadata": {},
   "outputs": [],
   "source": [
    "# Here we imported the data, and set the Date column to be: datetime not object \n",
    "office_df=pd.read_csv('the_office_series.csv',parse_dates=['Date'])\n",
    "df=office_df.copy()"
   ]
  },
  {
   "cell_type": "markdown",
   "id": "91dff4d2",
   "metadata": {},
   "source": [
    "## Data preprocessing"
   ]
  },
  {
   "cell_type": "code",
   "execution_count": 3,
   "id": "80a5c6a0",
   "metadata": {},
   "outputs": [
    {
     "name": "stdout",
     "output_type": "stream",
     "text": [
      "<class 'pandas.core.frame.DataFrame'>\n",
      "RangeIndex: 188 entries, 0 to 187\n",
      "Data columns (total 12 columns):\n",
      " #   Column        Non-Null Count  Dtype         \n",
      "---  ------        --------------  -----         \n",
      " 0   Unnamed: 0    188 non-null    int64         \n",
      " 1   Season        188 non-null    int64         \n",
      " 2   EpisodeTitle  188 non-null    object        \n",
      " 3   About         188 non-null    object        \n",
      " 4   Ratings       188 non-null    float64       \n",
      " 5   Votes         188 non-null    int64         \n",
      " 6   Viewership    188 non-null    float64       \n",
      " 7   Duration      188 non-null    int64         \n",
      " 8   Date          188 non-null    datetime64[ns]\n",
      " 9   GuestStars    29 non-null     object        \n",
      " 10  Director      188 non-null    object        \n",
      " 11  Writers       188 non-null    object        \n",
      "dtypes: datetime64[ns](1), float64(2), int64(4), object(5)\n",
      "memory usage: 17.8+ KB\n"
     ]
    }
   ],
   "source": [
    "df.info()"
   ]
  },
  {
   "cell_type": "code",
   "execution_count": null,
   "id": "fc410da1",
   "metadata": {},
   "outputs": [],
   "source": []
  },
  {
   "cell_type": "code",
   "execution_count": 4,
   "id": "c1ca01f2",
   "metadata": {},
   "outputs": [
    {
     "data": {
      "text/html": [
       "<div>\n",
       "<style scoped>\n",
       "    .dataframe tbody tr th:only-of-type {\n",
       "        vertical-align: middle;\n",
       "    }\n",
       "\n",
       "    .dataframe tbody tr th {\n",
       "        vertical-align: top;\n",
       "    }\n",
       "\n",
       "    .dataframe thead th {\n",
       "        text-align: right;\n",
       "    }\n",
       "</style>\n",
       "<table border=\"1\" class=\"dataframe\">\n",
       "  <thead>\n",
       "    <tr style=\"text-align: right;\">\n",
       "      <th></th>\n",
       "      <th>episode_number</th>\n",
       "      <th>Season</th>\n",
       "      <th>EpisodeTitle</th>\n",
       "      <th>About</th>\n",
       "      <th>Ratings</th>\n",
       "      <th>Votes</th>\n",
       "      <th>Viewership</th>\n",
       "      <th>Duration</th>\n",
       "      <th>Date</th>\n",
       "      <th>GuestStars</th>\n",
       "      <th>Director</th>\n",
       "      <th>Writers</th>\n",
       "    </tr>\n",
       "  </thead>\n",
       "  <tbody>\n",
       "    <tr>\n",
       "      <th>0</th>\n",
       "      <td>0</td>\n",
       "      <td>1</td>\n",
       "      <td>Pilot</td>\n",
       "      <td>The premiere episode introduces the boss and s...</td>\n",
       "      <td>7.5</td>\n",
       "      <td>4936</td>\n",
       "      <td>11.2</td>\n",
       "      <td>23</td>\n",
       "      <td>2005-03-24</td>\n",
       "      <td>NaN</td>\n",
       "      <td>Ken Kwapis</td>\n",
       "      <td>Ricky Gervais |Stephen Merchant and Greg Daniels</td>\n",
       "    </tr>\n",
       "    <tr>\n",
       "      <th>1</th>\n",
       "      <td>1</td>\n",
       "      <td>1</td>\n",
       "      <td>Diversity Day</td>\n",
       "      <td>Michael's off color remark puts a sensitivity ...</td>\n",
       "      <td>8.3</td>\n",
       "      <td>4801</td>\n",
       "      <td>6.0</td>\n",
       "      <td>23</td>\n",
       "      <td>2005-03-29</td>\n",
       "      <td>NaN</td>\n",
       "      <td>Ken Kwapis</td>\n",
       "      <td>B. J. Novak</td>\n",
       "    </tr>\n",
       "    <tr>\n",
       "      <th>2</th>\n",
       "      <td>2</td>\n",
       "      <td>1</td>\n",
       "      <td>Health Care</td>\n",
       "      <td>Michael leaves Dwight in charge of picking the...</td>\n",
       "      <td>7.8</td>\n",
       "      <td>4024</td>\n",
       "      <td>5.8</td>\n",
       "      <td>22</td>\n",
       "      <td>2005-04-05</td>\n",
       "      <td>NaN</td>\n",
       "      <td>Ken Whittingham</td>\n",
       "      <td>Paul Lieberstein</td>\n",
       "    </tr>\n",
       "    <tr>\n",
       "      <th>3</th>\n",
       "      <td>3</td>\n",
       "      <td>1</td>\n",
       "      <td>The Alliance</td>\n",
       "      <td>Just for a laugh, Jim agrees to an alliance wi...</td>\n",
       "      <td>8.1</td>\n",
       "      <td>3915</td>\n",
       "      <td>5.4</td>\n",
       "      <td>23</td>\n",
       "      <td>2005-04-12</td>\n",
       "      <td>NaN</td>\n",
       "      <td>Bryan Gordon</td>\n",
       "      <td>Michael Schur</td>\n",
       "    </tr>\n",
       "    <tr>\n",
       "      <th>4</th>\n",
       "      <td>4</td>\n",
       "      <td>1</td>\n",
       "      <td>Basketball</td>\n",
       "      <td>Michael and his staff challenge the warehouse ...</td>\n",
       "      <td>8.4</td>\n",
       "      <td>4294</td>\n",
       "      <td>5.0</td>\n",
       "      <td>23</td>\n",
       "      <td>2005-04-19</td>\n",
       "      <td>NaN</td>\n",
       "      <td>Greg Daniels</td>\n",
       "      <td>Greg Daniels</td>\n",
       "    </tr>\n",
       "  </tbody>\n",
       "</table>\n",
       "</div>"
      ],
      "text/plain": [
       "   episode_number  Season   EpisodeTitle  \\\n",
       "0               0       1          Pilot   \n",
       "1               1       1  Diversity Day   \n",
       "2               2       1    Health Care   \n",
       "3               3       1   The Alliance   \n",
       "4               4       1     Basketball   \n",
       "\n",
       "                                               About  Ratings  Votes  \\\n",
       "0  The premiere episode introduces the boss and s...      7.5   4936   \n",
       "1  Michael's off color remark puts a sensitivity ...      8.3   4801   \n",
       "2  Michael leaves Dwight in charge of picking the...      7.8   4024   \n",
       "3  Just for a laugh, Jim agrees to an alliance wi...      8.1   3915   \n",
       "4  Michael and his staff challenge the warehouse ...      8.4   4294   \n",
       "\n",
       "   Viewership  Duration       Date GuestStars         Director  \\\n",
       "0        11.2        23 2005-03-24        NaN       Ken Kwapis   \n",
       "1         6.0        23 2005-03-29        NaN       Ken Kwapis   \n",
       "2         5.8        22 2005-04-05        NaN  Ken Whittingham   \n",
       "3         5.4        23 2005-04-12        NaN     Bryan Gordon   \n",
       "4         5.0        23 2005-04-19        NaN     Greg Daniels   \n",
       "\n",
       "                                            Writers  \n",
       "0  Ricky Gervais |Stephen Merchant and Greg Daniels  \n",
       "1                                       B. J. Novak  \n",
       "2                                  Paul Lieberstein  \n",
       "3                                     Michael Schur  \n",
       "4                                      Greg Daniels  "
      ]
     },
     "execution_count": 4,
     "metadata": {},
     "output_type": "execute_result"
    }
   ],
   "source": [
    "# change the name of the first column to be episode_number\n",
    "df.rename(columns={'Unnamed: 0':'episode_number'},inplace=True)\n",
    "df.head()"
   ]
  },
  {
   "cell_type": "code",
   "execution_count": 5,
   "id": "785e9201",
   "metadata": {
    "scrolled": false
   },
   "outputs": [
    {
     "data": {
      "text/html": [
       "<div>\n",
       "<style scoped>\n",
       "    .dataframe tbody tr th:only-of-type {\n",
       "        vertical-align: middle;\n",
       "    }\n",
       "\n",
       "    .dataframe tbody tr th {\n",
       "        vertical-align: top;\n",
       "    }\n",
       "\n",
       "    .dataframe thead th {\n",
       "        text-align: right;\n",
       "    }\n",
       "</style>\n",
       "<table border=\"1\" class=\"dataframe\">\n",
       "  <thead>\n",
       "    <tr style=\"text-align: right;\">\n",
       "      <th></th>\n",
       "      <th>episode_number</th>\n",
       "      <th>Season</th>\n",
       "      <th>EpisodeTitle</th>\n",
       "      <th>About</th>\n",
       "      <th>Ratings</th>\n",
       "      <th>Votes</th>\n",
       "      <th>Viewership</th>\n",
       "      <th>Duration</th>\n",
       "      <th>Date</th>\n",
       "      <th>GuestStars</th>\n",
       "      <th>Director</th>\n",
       "      <th>Writers</th>\n",
       "      <th>has_guests</th>\n",
       "    </tr>\n",
       "  </thead>\n",
       "  <tbody>\n",
       "    <tr>\n",
       "      <th>0</th>\n",
       "      <td>0</td>\n",
       "      <td>1</td>\n",
       "      <td>Pilot</td>\n",
       "      <td>The premiere episode introduces the boss and s...</td>\n",
       "      <td>7.5</td>\n",
       "      <td>4936</td>\n",
       "      <td>11.2</td>\n",
       "      <td>23</td>\n",
       "      <td>2005-03-24</td>\n",
       "      <td>NaN</td>\n",
       "      <td>Ken Kwapis</td>\n",
       "      <td>Ricky Gervais |Stephen Merchant and Greg Daniels</td>\n",
       "      <td>False</td>\n",
       "    </tr>\n",
       "    <tr>\n",
       "      <th>1</th>\n",
       "      <td>1</td>\n",
       "      <td>1</td>\n",
       "      <td>Diversity Day</td>\n",
       "      <td>Michael's off color remark puts a sensitivity ...</td>\n",
       "      <td>8.3</td>\n",
       "      <td>4801</td>\n",
       "      <td>6.0</td>\n",
       "      <td>23</td>\n",
       "      <td>2005-03-29</td>\n",
       "      <td>NaN</td>\n",
       "      <td>Ken Kwapis</td>\n",
       "      <td>B. J. Novak</td>\n",
       "      <td>False</td>\n",
       "    </tr>\n",
       "    <tr>\n",
       "      <th>2</th>\n",
       "      <td>2</td>\n",
       "      <td>1</td>\n",
       "      <td>Health Care</td>\n",
       "      <td>Michael leaves Dwight in charge of picking the...</td>\n",
       "      <td>7.8</td>\n",
       "      <td>4024</td>\n",
       "      <td>5.8</td>\n",
       "      <td>22</td>\n",
       "      <td>2005-04-05</td>\n",
       "      <td>NaN</td>\n",
       "      <td>Ken Whittingham</td>\n",
       "      <td>Paul Lieberstein</td>\n",
       "      <td>False</td>\n",
       "    </tr>\n",
       "    <tr>\n",
       "      <th>3</th>\n",
       "      <td>3</td>\n",
       "      <td>1</td>\n",
       "      <td>The Alliance</td>\n",
       "      <td>Just for a laugh, Jim agrees to an alliance wi...</td>\n",
       "      <td>8.1</td>\n",
       "      <td>3915</td>\n",
       "      <td>5.4</td>\n",
       "      <td>23</td>\n",
       "      <td>2005-04-12</td>\n",
       "      <td>NaN</td>\n",
       "      <td>Bryan Gordon</td>\n",
       "      <td>Michael Schur</td>\n",
       "      <td>False</td>\n",
       "    </tr>\n",
       "    <tr>\n",
       "      <th>4</th>\n",
       "      <td>4</td>\n",
       "      <td>1</td>\n",
       "      <td>Basketball</td>\n",
       "      <td>Michael and his staff challenge the warehouse ...</td>\n",
       "      <td>8.4</td>\n",
       "      <td>4294</td>\n",
       "      <td>5.0</td>\n",
       "      <td>23</td>\n",
       "      <td>2005-04-19</td>\n",
       "      <td>NaN</td>\n",
       "      <td>Greg Daniels</td>\n",
       "      <td>Greg Daniels</td>\n",
       "      <td>False</td>\n",
       "    </tr>\n",
       "  </tbody>\n",
       "</table>\n",
       "</div>"
      ],
      "text/plain": [
       "   episode_number  Season   EpisodeTitle  \\\n",
       "0               0       1          Pilot   \n",
       "1               1       1  Diversity Day   \n",
       "2               2       1    Health Care   \n",
       "3               3       1   The Alliance   \n",
       "4               4       1     Basketball   \n",
       "\n",
       "                                               About  Ratings  Votes  \\\n",
       "0  The premiere episode introduces the boss and s...      7.5   4936   \n",
       "1  Michael's off color remark puts a sensitivity ...      8.3   4801   \n",
       "2  Michael leaves Dwight in charge of picking the...      7.8   4024   \n",
       "3  Just for a laugh, Jim agrees to an alliance wi...      8.1   3915   \n",
       "4  Michael and his staff challenge the warehouse ...      8.4   4294   \n",
       "\n",
       "   Viewership  Duration       Date GuestStars         Director  \\\n",
       "0        11.2        23 2005-03-24        NaN       Ken Kwapis   \n",
       "1         6.0        23 2005-03-29        NaN       Ken Kwapis   \n",
       "2         5.8        22 2005-04-05        NaN  Ken Whittingham   \n",
       "3         5.4        23 2005-04-12        NaN     Bryan Gordon   \n",
       "4         5.0        23 2005-04-19        NaN     Greg Daniels   \n",
       "\n",
       "                                            Writers  has_guests  \n",
       "0  Ricky Gervais |Stephen Merchant and Greg Daniels       False  \n",
       "1                                       B. J. Novak       False  \n",
       "2                                  Paul Lieberstein       False  \n",
       "3                                     Michael Schur       False  \n",
       "4                                      Greg Daniels       False  "
      ]
     },
     "execution_count": 5,
     "metadata": {},
     "output_type": "execute_result"
    }
   ],
   "source": [
    "# create 'has_guests' column that contains boolean values for whether there is a guest star or not\n",
    "guest=df.GuestStars.isnull()\n",
    "has_guest=[False if i else True for i in guest]\n",
    "has_guest\n",
    "df['has_guests']=has_guest\n",
    "df.head()"
   ]
  },
  {
   "cell_type": "code",
   "execution_count": 6,
   "id": "7f457f07",
   "metadata": {},
   "outputs": [
    {
     "data": {
      "text/plain": [
       "[7.8, 8.2, 8.6, 9.8]"
      ]
     },
     "execution_count": 6,
     "metadata": {},
     "output_type": "execute_result"
    }
   ],
   "source": [
    "# make color column that contains colors for each episode according to its rating\n",
    "colors = [\"red\", \"orange\", \"lightgreen\", \"darkgreen\"]\n",
    "ratings=df['Ratings']\n",
    "q1=ratings.quantile(0.25)\n",
    "q2=ratings.quantile(0.5)\n",
    "q3=ratings.quantile(0.75)\n",
    "q4=ratings.max()\n",
    "\n",
    "quantile_list=[q1,q2,q3,q4]\n",
    "quantile_list"
   ]
  },
  {
   "cell_type": "code",
   "execution_count": 7,
   "id": "b566ae3f",
   "metadata": {},
   "outputs": [
    {
     "data": {
      "text/plain": [
       "{7.8: 'red', 8.2: 'orange', 8.6: 'lightgreen', 9.8: 'darkgreen'}"
      ]
     },
     "execution_count": 7,
     "metadata": {},
     "output_type": "execute_result"
    }
   ],
   "source": [
    "indexed_color_dict={}\n",
    "for i in range(len(quantile_list)):\n",
    "    indexed_color_dict[quantile_list[i]]=colors[i]\n",
    "indexed_color_dict    "
   ]
  },
  {
   "cell_type": "code",
   "execution_count": 8,
   "id": "6993d70e",
   "metadata": {},
   "outputs": [],
   "source": [
    "def colorize(rating, indexed_color_dict):\n",
    "    for key in indexed_color_dict:\n",
    "        if float(key) >= rating:\n",
    "            return indexed_color_dict[key]"
   ]
  },
  {
   "cell_type": "code",
   "execution_count": 9,
   "id": "2618a10a",
   "metadata": {},
   "outputs": [],
   "source": [
    "df['Coloring'] = df['Ratings'].apply(colorize, args = (indexed_color_dict, ))"
   ]
  },
  {
   "cell_type": "markdown",
   "id": "9877a7ff",
   "metadata": {},
   "source": [
    "## Exploratory Data analysis"
   ]
  },
  {
   "cell_type": "code",
   "execution_count": 10,
   "id": "1654c2ee",
   "metadata": {},
   "outputs": [
    {
     "data": {
      "text/html": [
       "<div>\n",
       "<style scoped>\n",
       "    .dataframe tbody tr th:only-of-type {\n",
       "        vertical-align: middle;\n",
       "    }\n",
       "\n",
       "    .dataframe tbody tr th {\n",
       "        vertical-align: top;\n",
       "    }\n",
       "\n",
       "    .dataframe thead th {\n",
       "        text-align: right;\n",
       "    }\n",
       "</style>\n",
       "<table border=\"1\" class=\"dataframe\">\n",
       "  <thead>\n",
       "    <tr style=\"text-align: right;\">\n",
       "      <th></th>\n",
       "      <th>episode_number</th>\n",
       "      <th>Season</th>\n",
       "      <th>EpisodeTitle</th>\n",
       "      <th>About</th>\n",
       "      <th>Ratings</th>\n",
       "      <th>Votes</th>\n",
       "      <th>Viewership</th>\n",
       "      <th>Duration</th>\n",
       "      <th>Date</th>\n",
       "      <th>GuestStars</th>\n",
       "      <th>Director</th>\n",
       "      <th>Writers</th>\n",
       "      <th>has_guests</th>\n",
       "      <th>Coloring</th>\n",
       "    </tr>\n",
       "  </thead>\n",
       "  <tbody>\n",
       "    <tr>\n",
       "      <th>0</th>\n",
       "      <td>0</td>\n",
       "      <td>1</td>\n",
       "      <td>Pilot</td>\n",
       "      <td>The premiere episode introduces the boss and s...</td>\n",
       "      <td>7.5</td>\n",
       "      <td>4936</td>\n",
       "      <td>11.2</td>\n",
       "      <td>23</td>\n",
       "      <td>2005-03-24</td>\n",
       "      <td>NaN</td>\n",
       "      <td>Ken Kwapis</td>\n",
       "      <td>Ricky Gervais |Stephen Merchant and Greg Daniels</td>\n",
       "      <td>False</td>\n",
       "      <td>red</td>\n",
       "    </tr>\n",
       "    <tr>\n",
       "      <th>1</th>\n",
       "      <td>1</td>\n",
       "      <td>1</td>\n",
       "      <td>Diversity Day</td>\n",
       "      <td>Michael's off color remark puts a sensitivity ...</td>\n",
       "      <td>8.3</td>\n",
       "      <td>4801</td>\n",
       "      <td>6.0</td>\n",
       "      <td>23</td>\n",
       "      <td>2005-03-29</td>\n",
       "      <td>NaN</td>\n",
       "      <td>Ken Kwapis</td>\n",
       "      <td>B. J. Novak</td>\n",
       "      <td>False</td>\n",
       "      <td>lightgreen</td>\n",
       "    </tr>\n",
       "    <tr>\n",
       "      <th>2</th>\n",
       "      <td>2</td>\n",
       "      <td>1</td>\n",
       "      <td>Health Care</td>\n",
       "      <td>Michael leaves Dwight in charge of picking the...</td>\n",
       "      <td>7.8</td>\n",
       "      <td>4024</td>\n",
       "      <td>5.8</td>\n",
       "      <td>22</td>\n",
       "      <td>2005-04-05</td>\n",
       "      <td>NaN</td>\n",
       "      <td>Ken Whittingham</td>\n",
       "      <td>Paul Lieberstein</td>\n",
       "      <td>False</td>\n",
       "      <td>red</td>\n",
       "    </tr>\n",
       "    <tr>\n",
       "      <th>3</th>\n",
       "      <td>3</td>\n",
       "      <td>1</td>\n",
       "      <td>The Alliance</td>\n",
       "      <td>Just for a laugh, Jim agrees to an alliance wi...</td>\n",
       "      <td>8.1</td>\n",
       "      <td>3915</td>\n",
       "      <td>5.4</td>\n",
       "      <td>23</td>\n",
       "      <td>2005-04-12</td>\n",
       "      <td>NaN</td>\n",
       "      <td>Bryan Gordon</td>\n",
       "      <td>Michael Schur</td>\n",
       "      <td>False</td>\n",
       "      <td>orange</td>\n",
       "    </tr>\n",
       "    <tr>\n",
       "      <th>4</th>\n",
       "      <td>4</td>\n",
       "      <td>1</td>\n",
       "      <td>Basketball</td>\n",
       "      <td>Michael and his staff challenge the warehouse ...</td>\n",
       "      <td>8.4</td>\n",
       "      <td>4294</td>\n",
       "      <td>5.0</td>\n",
       "      <td>23</td>\n",
       "      <td>2005-04-19</td>\n",
       "      <td>NaN</td>\n",
       "      <td>Greg Daniels</td>\n",
       "      <td>Greg Daniels</td>\n",
       "      <td>False</td>\n",
       "      <td>lightgreen</td>\n",
       "    </tr>\n",
       "  </tbody>\n",
       "</table>\n",
       "</div>"
      ],
      "text/plain": [
       "   episode_number  Season   EpisodeTitle  \\\n",
       "0               0       1          Pilot   \n",
       "1               1       1  Diversity Day   \n",
       "2               2       1    Health Care   \n",
       "3               3       1   The Alliance   \n",
       "4               4       1     Basketball   \n",
       "\n",
       "                                               About  Ratings  Votes  \\\n",
       "0  The premiere episode introduces the boss and s...      7.5   4936   \n",
       "1  Michael's off color remark puts a sensitivity ...      8.3   4801   \n",
       "2  Michael leaves Dwight in charge of picking the...      7.8   4024   \n",
       "3  Just for a laugh, Jim agrees to an alliance wi...      8.1   3915   \n",
       "4  Michael and his staff challenge the warehouse ...      8.4   4294   \n",
       "\n",
       "   Viewership  Duration       Date GuestStars         Director  \\\n",
       "0        11.2        23 2005-03-24        NaN       Ken Kwapis   \n",
       "1         6.0        23 2005-03-29        NaN       Ken Kwapis   \n",
       "2         5.8        22 2005-04-05        NaN  Ken Whittingham   \n",
       "3         5.4        23 2005-04-12        NaN     Bryan Gordon   \n",
       "4         5.0        23 2005-04-19        NaN     Greg Daniels   \n",
       "\n",
       "                                            Writers  has_guests    Coloring  \n",
       "0  Ricky Gervais |Stephen Merchant and Greg Daniels       False         red  \n",
       "1                                       B. J. Novak       False  lightgreen  \n",
       "2                                  Paul Lieberstein       False         red  \n",
       "3                                     Michael Schur       False      orange  \n",
       "4                                      Greg Daniels       False  lightgreen  "
      ]
     },
     "execution_count": 10,
     "metadata": {},
     "output_type": "execute_result"
    }
   ],
   "source": [
    "df.head()"
   ]
  },
  {
   "cell_type": "code",
   "execution_count": null,
   "id": "82f8fea0",
   "metadata": {},
   "outputs": [],
   "source": []
  },
  {
   "cell_type": "code",
   "execution_count": 11,
   "id": "ba3f4b3a",
   "metadata": {
    "scrolled": false
   },
   "outputs": [
    {
     "data": {
      "text/html": [
       "<div>\n",
       "<style scoped>\n",
       "    .dataframe tbody tr th:only-of-type {\n",
       "        vertical-align: middle;\n",
       "    }\n",
       "\n",
       "    .dataframe tbody tr th {\n",
       "        vertical-align: top;\n",
       "    }\n",
       "\n",
       "    .dataframe thead th {\n",
       "        text-align: right;\n",
       "    }\n",
       "</style>\n",
       "<table border=\"1\" class=\"dataframe\">\n",
       "  <thead>\n",
       "    <tr style=\"text-align: right;\">\n",
       "      <th></th>\n",
       "      <th>episode_number</th>\n",
       "      <th>Season</th>\n",
       "      <th>EpisodeTitle</th>\n",
       "      <th>About</th>\n",
       "      <th>Ratings</th>\n",
       "      <th>Votes</th>\n",
       "      <th>Viewership</th>\n",
       "      <th>Duration</th>\n",
       "      <th>Date</th>\n",
       "      <th>GuestStars</th>\n",
       "      <th>Director</th>\n",
       "      <th>Writers</th>\n",
       "      <th>has_guests</th>\n",
       "      <th>Coloring</th>\n",
       "      <th>Size</th>\n",
       "    </tr>\n",
       "  </thead>\n",
       "  <tbody>\n",
       "    <tr>\n",
       "      <th>0</th>\n",
       "      <td>0</td>\n",
       "      <td>1</td>\n",
       "      <td>Pilot</td>\n",
       "      <td>The premiere episode introduces the boss and s...</td>\n",
       "      <td>7.5</td>\n",
       "      <td>4936</td>\n",
       "      <td>11.2</td>\n",
       "      <td>23</td>\n",
       "      <td>2005-03-24</td>\n",
       "      <td>NaN</td>\n",
       "      <td>Ken Kwapis</td>\n",
       "      <td>Ricky Gervais |Stephen Merchant and Greg Daniels</td>\n",
       "      <td>False</td>\n",
       "      <td>red</td>\n",
       "      <td>25</td>\n",
       "    </tr>\n",
       "    <tr>\n",
       "      <th>1</th>\n",
       "      <td>1</td>\n",
       "      <td>1</td>\n",
       "      <td>Diversity Day</td>\n",
       "      <td>Michael's off color remark puts a sensitivity ...</td>\n",
       "      <td>8.3</td>\n",
       "      <td>4801</td>\n",
       "      <td>6.0</td>\n",
       "      <td>23</td>\n",
       "      <td>2005-03-29</td>\n",
       "      <td>NaN</td>\n",
       "      <td>Ken Kwapis</td>\n",
       "      <td>B. J. Novak</td>\n",
       "      <td>False</td>\n",
       "      <td>lightgreen</td>\n",
       "      <td>25</td>\n",
       "    </tr>\n",
       "    <tr>\n",
       "      <th>2</th>\n",
       "      <td>2</td>\n",
       "      <td>1</td>\n",
       "      <td>Health Care</td>\n",
       "      <td>Michael leaves Dwight in charge of picking the...</td>\n",
       "      <td>7.8</td>\n",
       "      <td>4024</td>\n",
       "      <td>5.8</td>\n",
       "      <td>22</td>\n",
       "      <td>2005-04-05</td>\n",
       "      <td>NaN</td>\n",
       "      <td>Ken Whittingham</td>\n",
       "      <td>Paul Lieberstein</td>\n",
       "      <td>False</td>\n",
       "      <td>red</td>\n",
       "      <td>25</td>\n",
       "    </tr>\n",
       "    <tr>\n",
       "      <th>3</th>\n",
       "      <td>3</td>\n",
       "      <td>1</td>\n",
       "      <td>The Alliance</td>\n",
       "      <td>Just for a laugh, Jim agrees to an alliance wi...</td>\n",
       "      <td>8.1</td>\n",
       "      <td>3915</td>\n",
       "      <td>5.4</td>\n",
       "      <td>23</td>\n",
       "      <td>2005-04-12</td>\n",
       "      <td>NaN</td>\n",
       "      <td>Bryan Gordon</td>\n",
       "      <td>Michael Schur</td>\n",
       "      <td>False</td>\n",
       "      <td>orange</td>\n",
       "      <td>25</td>\n",
       "    </tr>\n",
       "  </tbody>\n",
       "</table>\n",
       "</div>"
      ],
      "text/plain": [
       "   episode_number  Season   EpisodeTitle  \\\n",
       "0               0       1          Pilot   \n",
       "1               1       1  Diversity Day   \n",
       "2               2       1    Health Care   \n",
       "3               3       1   The Alliance   \n",
       "\n",
       "                                               About  Ratings  Votes  \\\n",
       "0  The premiere episode introduces the boss and s...      7.5   4936   \n",
       "1  Michael's off color remark puts a sensitivity ...      8.3   4801   \n",
       "2  Michael leaves Dwight in charge of picking the...      7.8   4024   \n",
       "3  Just for a laugh, Jim agrees to an alliance wi...      8.1   3915   \n",
       "\n",
       "   Viewership  Duration       Date GuestStars         Director  \\\n",
       "0        11.2        23 2005-03-24        NaN       Ken Kwapis   \n",
       "1         6.0        23 2005-03-29        NaN       Ken Kwapis   \n",
       "2         5.8        22 2005-04-05        NaN  Ken Whittingham   \n",
       "3         5.4        23 2005-04-12        NaN     Bryan Gordon   \n",
       "\n",
       "                                            Writers  has_guests    Coloring  \\\n",
       "0  Ricky Gervais |Stephen Merchant and Greg Daniels       False         red   \n",
       "1                                       B. J. Novak       False  lightgreen   \n",
       "2                                  Paul Lieberstein       False         red   \n",
       "3                                     Michael Schur       False      orange   \n",
       "\n",
       "   Size  \n",
       "0    25  \n",
       "1    25  \n",
       "2    25  \n",
       "3    25  "
      ]
     },
     "execution_count": 11,
     "metadata": {},
     "output_type": "execute_result"
    }
   ],
   "source": [
    "size=[]\n",
    "for ind,row in df.iterrows():\n",
    "    if row['has_guests']==True:\n",
    "        size.append(250)\n",
    "    else:\n",
    "        size.append(25)\n",
    "df['Size']= size\n",
    "df.head(4)"
   ]
  },
  {
   "cell_type": "code",
   "execution_count": 14,
   "id": "c3e687e5",
   "metadata": {
    "scrolled": false
   },
   "outputs": [
    {
     "data": {
      "image/png": "[encoded data removed]",
      "text/plain": [
       "<Figure size 792x504 with 1 Axes>"
      ]
     },
     "metadata": {
      "needs_background": "light"
     },
     "output_type": "display_data"
    }
   ],
   "source": [
    "# Here we will see the viewership across the years \n",
    "plt.scatter(x=df.Date,y=df.Viewership,\n",
    "            s=df.Size,\n",
    "            c=df.Coloring)\n",
    "plt.xlabel('Years')\n",
    "plt.ylabel('Viewership')\n",
    "plt.show()"
   ]
  },
  {
   "cell_type": "code",
   "execution_count": 12,
   "id": "52b78d2a",
   "metadata": {},
   "outputs": [],
   "source": [
    "# Here we will make two datafromes, one for the episodes that has guest stars and one that has not\n",
    "guests_df=df[df['has_guests']==True]\n",
    "non_guests_df=df[df['has_guests']==False]"
   ]
  },
  {
   "cell_type": "code",
   "execution_count": 13,
   "id": "7ba92455",
   "metadata": {},
   "outputs": [
    {
     "data": {
      "image/png": "[encoded data removed]",
      "text/plain": [
       "<Figure size 792x504 with 1 Axes>"
      ]
     },
     "metadata": {
      "needs_background": "light"
     },
     "output_type": "display_data"
    }
   ],
   "source": [
    "fig = plt.figure()\n",
    "# plotting using scatter plots two dataframes, the first one that contains data\n",
    "# with existence of guest stars, The other one for data with no guest stars with \n",
    "# different markers\n",
    "\n",
    "plt.scatter(x=non_guests_df.episode_number,y=non_guests_df.Viewership,\n",
    "            c=non_guests_df.Coloring,\n",
    "            s=non_guests_df.Size)\n",
    "\n",
    "plt.scatter(x=guests_df.episode_number,y=guests_df.Viewership,\n",
    "           c=guests_df.Coloring,\n",
    "            s=guests_df.Size,marker='*')\n",
    "\n",
    "\n",
    "plt.xlabel('Episode Number')\n",
    "plt.ylabel('Viewership (Millions)')\n",
    "plt.title('Popularity, Quality, and Guest Appearances on the Office')\n",
    "plt.show()"
   ]
  },
  {
   "cell_type": "code",
   "execution_count": 14,
   "id": "94ee6980",
   "metadata": {},
   "outputs": [
    {
     "data": {
      "text/html": [
       "<div>\n",
       "<style scoped>\n",
       "    .dataframe tbody tr th:only-of-type {\n",
       "        vertical-align: middle;\n",
       "    }\n",
       "\n",
       "    .dataframe tbody tr th {\n",
       "        vertical-align: top;\n",
       "    }\n",
       "\n",
       "    .dataframe thead th {\n",
       "        text-align: right;\n",
       "    }\n",
       "</style>\n",
       "<table border=\"1\" class=\"dataframe\">\n",
       "  <thead>\n",
       "    <tr style=\"text-align: right;\">\n",
       "      <th></th>\n",
       "      <th>episode_number</th>\n",
       "      <th>Season</th>\n",
       "      <th>EpisodeTitle</th>\n",
       "      <th>About</th>\n",
       "      <th>Ratings</th>\n",
       "      <th>Votes</th>\n",
       "      <th>Viewership</th>\n",
       "      <th>Duration</th>\n",
       "      <th>Date</th>\n",
       "      <th>GuestStars</th>\n",
       "      <th>Director</th>\n",
       "      <th>Writers</th>\n",
       "      <th>has_guests</th>\n",
       "      <th>Coloring</th>\n",
       "      <th>Size</th>\n",
       "    </tr>\n",
       "  </thead>\n",
       "  <tbody>\n",
       "    <tr>\n",
       "      <th>77</th>\n",
       "      <td>77</td>\n",
       "      <td>5</td>\n",
       "      <td>Stress Relief</td>\n",
       "      <td>Dwight's too-realistic fire alarm gives Stanle...</td>\n",
       "      <td>9.7</td>\n",
       "      <td>8170</td>\n",
       "      <td>22.91</td>\n",
       "      <td>60</td>\n",
       "      <td>2009-02-01</td>\n",
       "      <td>Cloris Leachman, Jack Black, Jessica Alba</td>\n",
       "      <td>Jeffrey Blitz</td>\n",
       "      <td>Paul Lieberstein</td>\n",
       "      <td>True</td>\n",
       "      <td>darkgreen</td>\n",
       "      <td>250</td>\n",
       "    </tr>\n",
       "  </tbody>\n",
       "</table>\n",
       "</div>"
      ],
      "text/plain": [
       "    episode_number  Season   EpisodeTitle  \\\n",
       "77              77       5  Stress Relief   \n",
       "\n",
       "                                                About  Ratings  Votes  \\\n",
       "77  Dwight's too-realistic fire alarm gives Stanle...      9.7   8170   \n",
       "\n",
       "    Viewership  Duration       Date  \\\n",
       "77       22.91        60 2009-02-01   \n",
       "\n",
       "                                   GuestStars       Director  \\\n",
       "77  Cloris Leachman, Jack Black, Jessica Alba  Jeffrey Blitz   \n",
       "\n",
       "             Writers  has_guests   Coloring  Size  \n",
       "77  Paul Lieberstein        True  darkgreen   250  "
      ]
     },
     "execution_count": 14,
     "metadata": {},
     "output_type": "execute_result"
    }
   ],
   "source": [
    "# the number of episode with relative high viewership \n",
    "max_view=df['Viewership'].max()\n",
    "df[df['Viewership']==max_view]"
   ]
  },
  {
   "cell_type": "code",
   "execution_count": 15,
   "id": "7527017d",
   "metadata": {},
   "outputs": [
    {
     "data": {
      "text/plain": [
       "77    Cloris Leachman, Jack Black, Jessica Alba\n",
       "Name: GuestStars, dtype: object"
      ]
     },
     "execution_count": 15,
     "metadata": {},
     "output_type": "execute_result"
    }
   ],
   "source": [
    "# we get the names of guest stars in that episode\n",
    "top_star=df[df['Viewership']==max_view]['GuestStars']\n",
    "top_star"
   ]
  },
  {
   "cell_type": "code",
   "execution_count": 18,
   "id": "df4dc0e6",
   "metadata": {},
   "outputs": [
    {
     "data": {
      "image/png": "[encoded data removed]",
      "text/plain": [
       "<Figure size 792x504 with 1 Axes>"
      ]
     },
     "metadata": {
      "needs_background": "light"
     },
     "output_type": "display_data"
    }
   ],
   "source": [
    "# Here we will count the number of episodes in each season\n",
    "e=df.groupby(('Season'),as_index=False).count()\n",
    "e=e[['Season','episode_number']]\n",
    "e.rename(columns={'episode_number':'NoOfEpisodes'},inplace=True)\n",
    "\n",
    "plt.bar(e.Season,e.NoOfEpisodes)\n",
    "plt.style.context('fivethirtyeight')\n",
    "plt.xlabel('Season')\n",
    "plt.ylabel('NoOfEpisodes')\n",
    "plt.show()"
   ]
  },
  {
   "cell_type": "code",
   "execution_count": null,
   "id": "c3841568",
   "metadata": {},
   "outputs": [],
   "source": []
  },
  {
   "cell_type": "code",
   "execution_count": 50,
   "id": "cad5b96a",
   "metadata": {},
   "outputs": [
    {
     "data": {
      "image/png": "[encoded data removed]",
      "text/plain": [
       "<Figure size 640x480 with 1 Axes>"
      ]
     },
     "metadata": {},
     "output_type": "display_data"
    }
   ],
   "source": [
    "# Grouping the data by season and calculate the average of the ratings for each season\n",
    "rating=df.groupby('Season')['Ratings'].mean()\n",
    "\n",
    "plt.plot(rating)\n",
    "plt.xlabel('Season')\n",
    "plt.ylabel('Ratings')\n",
    "plt.show()"
   ]
  },
  {
   "cell_type": "code",
   "execution_count": 24,
   "id": "34ae41cc",
   "metadata": {},
   "outputs": [
    {
     "data": {
      "image/png": "[encoded data removed]",
      "text/plain": [
       "<Figure size 792x504 with 1 Axes>"
      ]
     },
     "metadata": {
      "needs_background": "light"
     },
     "output_type": "display_data"
    }
   ],
   "source": [
    "top_10_view = (df.sort_values(by=['Viewership','Ratings'],ascending=False)).iloc[:10,:]\n",
    "plt.bar(top_10_view['EpisodeTitle'],top_10_view['Viewership'])\n",
    "plt.xticks(rotation=45)\n",
    "plt.xlabel('Episode Title')\n",
    "plt.ylabel('Viewership')\n",
    "plt.title('Top 10 episodes with highest viewership')\n",
    "plt.show()"
   ]
  },
  {
   "cell_type": "code",
   "execution_count": null,
   "id": "6e4db33c",
   "metadata": {},
   "outputs": [],
   "source": []
  },
  {
   "cell_type": "code",
   "execution_count": 43,
   "id": "e5eceb18",
   "metadata": {},
   "outputs": [
    {
     "data": {
      "text/plain": [
       "([<matplotlib.patches.Wedge at 0x12e8cfc2610>,\n",
       "  <matplotlib.patches.Wedge at 0x12e8cfcbc70>,\n",
       "  <matplotlib.patches.Wedge at 0x12e8afc8370>,\n",
       "  <matplotlib.patches.Wedge at 0x12e8d89c4f0>,\n",
       "  <matplotlib.patches.Wedge at 0x12e8d89cfa0>,\n",
       "  <matplotlib.patches.Wedge at 0x12e8cbe9460>,\n",
       "  <matplotlib.patches.Wedge at 0x12e8afcb580>,\n",
       "  <matplotlib.patches.Wedge at 0x12e8a801ac0>,\n",
       "  <matplotlib.patches.Wedge at 0x12e8a66eaf0>],\n",
       " [Text(-0.1189309198250182, 1.0935517529177918, '1'),\n",
       "  Text(-0.8383782750097849, 0.7121248963430625, '2'),\n",
       "  Text(-1.0983867528088678, -0.05955284421412039, '3'),\n",
       "  Text(-1.0599049800137885, -0.294281214728312, '4'),\n",
       "  Text(-0.8383782250043244, -0.7121249552140402, '5'),\n",
       "  Text(-0.2364674079288459, -1.0742826280767148, '6'),\n",
       "  Text(0.6656917165819021, -0.8757023115615493, '7'),\n",
       "  Text(1.098386761869432, -0.05955267710173711, '8'),\n",
       "  Text(0.6656915116089658, 0.8757024673779162, '9')],\n",
       " [Text(-0.0648714108136463, 0.5964827743187955, '3.4%'),\n",
       "  Text(-0.4572972409144281, 0.3884317616416704, '20.7%'),\n",
       "  Text(-0.5991200469866551, -0.03248336957133839, '3.4%'),\n",
       "  Text(-0.57812998909843, -0.16051702621544287, '3.4%'),\n",
       "  Text(-0.45729721363872233, -0.38843179375311276, '10.3%'),\n",
       "  Text(-0.1289822225066432, -0.5859723425872989, '10.3%'),\n",
       "  Text(0.36310457268103746, -0.47765580630629956, '17.2%'),\n",
       "  Text(0.599120051928781, -0.032483278419129326, '10.3%'),\n",
       "  Text(0.36310446087761766, 0.4776558912970451, '20.7%')])"
      ]
     },
     "execution_count": 43,
     "metadata": {},
     "output_type": "execute_result"
    },
    {
     "data": {
      "image/png": "[encoded data removed]",
      "text/plain": [
       "<Figure size 936x576 with 1 Axes>"
      ]
     },
     "metadata": {},
     "output_type": "display_data"
    }
   ],
   "source": [
    "# we get the number of guest stars appeared each season\n",
    "plt.rcParams['figure.figsize']=[13,8]\n",
    "g=df.groupby('Season')['GuestStars'].count()\n",
    "g_df=pd.DataFrame(g)\n",
    "\n",
    "l=[1,2,3,4,5,6,7,8,9]\n",
    "plt.pie(g_df['GuestStars'],startangle =90,labels=l,autopct='%.1f%%')"
   ]
  },
  {
   "cell_type": "code",
   "execution_count": null,
   "id": "04b71f4c",
   "metadata": {},
   "outputs": [],
   "source": []
  },
  {
   "cell_type": "code",
   "execution_count": null,
   "id": "4f6489f1",
   "metadata": {},
   "outputs": [],
   "source": []
  },
  {
   "cell_type": "code",
   "execution_count": null,
   "id": "db3fe459",
   "metadata": {},
   "outputs": [],
   "source": []
  }
 ],
 "metadata": {
  "kernelspec": {
   "display_name": "Python 3",
   "language": "python",
   "name": "python3"
  },
  "language_info": {
   "codemirror_mode": {
    "name": "ipython",
    "version": 3
   },
   "file_extension": ".py",
   "mimetype": "text/x-python",
   "name": "python",
   "nbconvert_exporter": "python",
   "pygments_lexer": "ipython3",
   "version": "3.8.8"
  }
 },
 "nbformat": 4,
 "nbformat_minor": 5
}
